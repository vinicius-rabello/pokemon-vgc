{
 "cells": [
  {
   "cell_type": "code",
   "execution_count": 1,
   "metadata": {
    "id": "c6XQWhD331jA"
   },
   "outputs": [],
   "source": [
    "from bs4 import BeautifulSoup\n",
    "import pandas as pd\n",
    "import requests\n",
    "from tqdm import tqdm"
   ]
  },
  {
   "cell_type": "code",
   "execution_count": 2,
   "metadata": {
    "id": "SunPYSjY36lw"
   },
   "outputs": [],
   "source": [
    "url = \"https://limitlessvgc.com/events/?time=all&type=all&region=all&format=all\"\n",
    "page = requests.get(url)\n",
    "soup = BeautifulSoup(page.content, \"html.parser\")"
   ]
  },
  {
   "cell_type": "code",
   "execution_count": 3,
   "metadata": {
    "id": "tYJUd4Nc3--e"
   },
   "outputs": [],
   "source": [
    "table = soup.find(class_=\"table\")\n",
    "thead = table.find(\"thead\")\n",
    "tbody = table.find(\"tbody\")"
   ]
  },
  {
   "cell_type": "code",
   "execution_count": 4,
   "metadata": {
    "id": "IrEXVqsN7eJh"
   },
   "outputs": [],
   "source": [
    "def get_row_data(row):\n",
    "  row = row.findAll(\"td\")\n",
    "  row[0] = row[0].text\n",
    "  row[1] = row[1].find(\"span\")[\"title\"]\n",
    "  event_url = \"https://limitlessvgc.com/events\" + row[2].find(\"a\")[\"href\"]\n",
    "  event_id = int(event_url.split('/')[-1])\n",
    "  row[2] = row[2].text\n",
    "  row[3] = row[3].text\n",
    "  row[4] = row[4].text\n",
    "  row.append(event_id)\n",
    "  return row"
   ]
  },
  {
   "cell_type": "code",
   "execution_count": 5,
   "metadata": {
    "id": "fuAUTyop9Yr0"
   },
   "outputs": [],
   "source": [
    "headers = ['date', 'event_country', 'name', 'num_players', 'winner', 'event_id']\n",
    "rows = [get_row_data(tr) for tr in tbody.findAll(\"tr\")]"
   ]
  },
  {
   "cell_type": "code",
   "execution_count": 6,
   "metadata": {
    "id": "8z35nIqE9yM0"
   },
   "outputs": [],
   "source": [
    "tournaments_df = pd.DataFrame(data=rows, columns=headers)"
   ]
  },
  {
   "cell_type": "code",
   "execution_count": 7,
   "metadata": {
    "colab": {
     "base_uri": "https://localhost:8080/",
     "height": 423
    },
    "id": "oUc0uhrM-K6q",
    "outputId": "0d748b3f-07ed-4fca-b1f3-e67d56f5e42a"
   },
   "outputs": [
    {
     "data": {
      "text/html": [
       "<div>\n",
       "<style scoped>\n",
       "    .dataframe tbody tr th:only-of-type {\n",
       "        vertical-align: middle;\n",
       "    }\n",
       "\n",
       "    .dataframe tbody tr th {\n",
       "        vertical-align: top;\n",
       "    }\n",
       "\n",
       "    .dataframe thead th {\n",
       "        text-align: right;\n",
       "    }\n",
       "</style>\n",
       "<table border=\"1\" class=\"dataframe\">\n",
       "  <thead>\n",
       "    <tr style=\"text-align: right;\">\n",
       "      <th></th>\n",
       "      <th>date</th>\n",
       "      <th>event_country</th>\n",
       "      <th>name</th>\n",
       "      <th>num_players</th>\n",
       "      <th>winner</th>\n",
       "      <th>event_id</th>\n",
       "    </tr>\n",
       "  </thead>\n",
       "  <tbody>\n",
       "    <tr>\n",
       "      <th>0</th>\n",
       "      <td>12 Oct 24</td>\n",
       "      <td>USA</td>\n",
       "      <td>Regional Louisville</td>\n",
       "      <td>753</td>\n",
       "      <td>Andrew Zheng</td>\n",
       "      <td>364</td>\n",
       "    </tr>\n",
       "    <tr>\n",
       "      <th>1</th>\n",
       "      <td>28 Sep 24</td>\n",
       "      <td>Germany</td>\n",
       "      <td>Regional Dortmund</td>\n",
       "      <td>710</td>\n",
       "      <td>Davide Miraglia</td>\n",
       "      <td>389</td>\n",
       "    </tr>\n",
       "    <tr>\n",
       "      <th>2</th>\n",
       "      <td>28 Sep 24</td>\n",
       "      <td>Brazil</td>\n",
       "      <td>Regional Joinville</td>\n",
       "      <td>111</td>\n",
       "      <td>Gabriel Agati</td>\n",
       "      <td>378</td>\n",
       "    </tr>\n",
       "    <tr>\n",
       "      <th>3</th>\n",
       "      <td>14 Sep 24</td>\n",
       "      <td>USA</td>\n",
       "      <td>Regional Baltimore</td>\n",
       "      <td>647</td>\n",
       "      <td>Nicholas Morales</td>\n",
       "      <td>390</td>\n",
       "    </tr>\n",
       "    <tr>\n",
       "      <th>4</th>\n",
       "      <td>17 Aug 24</td>\n",
       "      <td>USA</td>\n",
       "      <td>Worlds Honolulu</td>\n",
       "      <td>694</td>\n",
       "      <td>Luca Ceribelli</td>\n",
       "      <td>358</td>\n",
       "    </tr>\n",
       "    <tr>\n",
       "      <th>...</th>\n",
       "      <td>...</td>\n",
       "      <td>...</td>\n",
       "      <td>...</td>\n",
       "      <td>...</td>\n",
       "      <td>...</td>\n",
       "      <td>...</td>\n",
       "    </tr>\n",
       "    <tr>\n",
       "      <th>331</th>\n",
       "      <td>19 Jun 10</td>\n",
       "      <td>Spain</td>\n",
       "      <td>Spain Nationals 2010</td>\n",
       "      <td>256</td>\n",
       "      <td>Mario Diaz de Cerio Beltran</td>\n",
       "      <td>244</td>\n",
       "    </tr>\n",
       "    <tr>\n",
       "      <th>332</th>\n",
       "      <td>12 Jun 10</td>\n",
       "      <td>France</td>\n",
       "      <td>France Nationals 2010</td>\n",
       "      <td>256</td>\n",
       "      <td>f roggy</td>\n",
       "      <td>243</td>\n",
       "    </tr>\n",
       "    <tr>\n",
       "      <th>333</th>\n",
       "      <td>05 Jun 10</td>\n",
       "      <td>Germany</td>\n",
       "      <td>German Nationals 2010</td>\n",
       "      <td>256</td>\n",
       "      <td>Robert Wein</td>\n",
       "      <td>242</td>\n",
       "    </tr>\n",
       "    <tr>\n",
       "      <th>334</th>\n",
       "      <td>01 Jun 10</td>\n",
       "      <td>Japan</td>\n",
       "      <td>Japan Nationals 2010</td>\n",
       "      <td>32</td>\n",
       "      <td>Ryo Tajiri</td>\n",
       "      <td>240</td>\n",
       "    </tr>\n",
       "    <tr>\n",
       "      <th>335</th>\n",
       "      <td>01 Jun 10</td>\n",
       "      <td>Great Britain</td>\n",
       "      <td>UK Nationals 2010</td>\n",
       "      <td>100</td>\n",
       "      <td>Rees Hamilton</td>\n",
       "      <td>241</td>\n",
       "    </tr>\n",
       "  </tbody>\n",
       "</table>\n",
       "<p>336 rows × 6 columns</p>\n",
       "</div>"
      ],
      "text/plain": [
       "          date  event_country                   name num_players  \\\n",
       "0    12 Oct 24            USA    Regional Louisville         753   \n",
       "1    28 Sep 24        Germany      Regional Dortmund         710   \n",
       "2    28 Sep 24         Brazil     Regional Joinville         111   \n",
       "3    14 Sep 24            USA     Regional Baltimore         647   \n",
       "4    17 Aug 24            USA        Worlds Honolulu         694   \n",
       "..         ...            ...                    ...         ...   \n",
       "331  19 Jun 10          Spain   Spain Nationals 2010         256   \n",
       "332  12 Jun 10         France  France Nationals 2010         256   \n",
       "333  05 Jun 10        Germany  German Nationals 2010         256   \n",
       "334  01 Jun 10          Japan   Japan Nationals 2010          32   \n",
       "335  01 Jun 10  Great Britain      UK Nationals 2010         100   \n",
       "\n",
       "                          winner  event_id  \n",
       "0                   Andrew Zheng       364  \n",
       "1                Davide Miraglia       389  \n",
       "2                  Gabriel Agati       378  \n",
       "3               Nicholas Morales       390  \n",
       "4                 Luca Ceribelli       358  \n",
       "..                           ...       ...  \n",
       "331  Mario Diaz de Cerio Beltran       244  \n",
       "332                      f roggy       243  \n",
       "333                  Robert Wein       242  \n",
       "334                   Ryo Tajiri       240  \n",
       "335                Rees Hamilton       241  \n",
       "\n",
       "[336 rows x 6 columns]"
      ]
     },
     "execution_count": 7,
     "metadata": {},
     "output_type": "execute_result"
    }
   ],
   "source": [
    "tournaments_df"
   ]
  },
  {
   "cell_type": "markdown",
   "metadata": {
    "id": "O0SObJjT_tGN"
   },
   "source": [
    "# Construindo o DataFrame com a classificação de cada evento"
   ]
  },
  {
   "cell_type": "code",
   "execution_count": 8,
   "metadata": {
    "id": "YJTBGhK_-NBo"
   },
   "outputs": [],
   "source": [
    "# pegando a lista com a url de cada evento\n",
    "event_id_list = tournaments_df['event_id'].tolist()\n",
    "event_url_list = [f\"https://limitlessvgc.com/events/{id}/\" for id in event_id_list]"
   ]
  },
  {
   "cell_type": "code",
   "execution_count": 9,
   "metadata": {
    "id": "b2X67otOMikn"
   },
   "outputs": [],
   "source": [
    "def get_event_row_data(row):\n",
    "  row = row.findAll(\"td\")\n",
    "  row[0] = row[0].text # get the placement\n",
    "  row[1] = row[1].text # get the player name\n",
    "  row[2] = row[2].find(\"span\")[\"title\"] # get the plaayer country\n",
    "  pokemon_team_data = row[3].findAll(\"span\")\n",
    "  pokemon_team = [pkmn[\"title\"] for pkmn in pokemon_team_data]\n",
    "  row[3] = pokemon_team\n",
    "  return row[:-1]"
   ]
  },
  {
   "cell_type": "code",
   "execution_count": 10,
   "metadata": {
    "id": "nohE5jVZAFe_"
   },
   "outputs": [],
   "source": [
    "def build_event_df(event_url):\n",
    "  # parse the html page\n",
    "  page = requests.get(event_url)\n",
    "  soup = BeautifulSoup(page.content, \"html.parser\")\n",
    "\n",
    "  # get the table body with all the data\n",
    "  table = soup.find(class_=\"table\")\n",
    "  tbody = table.find(\"tbody\")\n",
    "\n",
    "  # get the headers for our event df\n",
    "  headers = ['event_id', 'placement', 'player', 'country', 'team']\n",
    "  event_id = int(event_url.split('/')[-2])\n",
    "  rows = [[event_id] + get_event_row_data(row) for row in tbody.findAll(\"tr\")]\n",
    "  df = pd.DataFrame(data=rows, columns=headers)\n",
    "  return df"
   ]
  },
  {
   "cell_type": "code",
   "execution_count": 11,
   "metadata": {
    "id": "baFUXmluC2WB"
   },
   "outputs": [],
   "source": [
    "def build_pokemon_stats_df(event_url_list):\n",
    "  df = build_event_df(event_url_list[0])\n",
    "  for event_url in tqdm(event_url_list[1:]):\n",
    "    df = pd.concat([df, build_event_df(event_url)], ignore_index=True)\n",
    "  return df"
   ]
  },
  {
   "cell_type": "code",
   "execution_count": 12,
   "metadata": {
    "colab": {
     "base_uri": "https://localhost:8080/"
    },
    "id": "F79dmY9FC5be",
    "outputId": "f5fb8107-5113-499a-af33-46282e0ac8cb"
   },
   "outputs": [
    {
     "name": "stderr",
     "output_type": "stream",
     "text": [
      "100%|██████████| 335/335 [03:38<00:00,  1.53it/s]\n"
     ]
    }
   ],
   "source": [
    "pokemon_stats_df = build_pokemon_stats_df(event_url_list)"
   ]
  },
  {
   "cell_type": "markdown",
   "metadata": {
    "id": "BXvvB4RKP8nP"
   },
   "source": [
    "Now we explode the team column, reset the indexes and rename the column to pokemon"
   ]
  },
  {
   "cell_type": "code",
   "execution_count": 13,
   "metadata": {
    "colab": {
     "base_uri": "https://localhost:8080/",
     "height": 423
    },
    "id": "ha5wWOGMQuyq",
    "outputId": "4ba01e83-b789-4a70-af3b-291e1f72a9dc"
   },
   "outputs": [
    {
     "data": {
      "text/html": [
       "<div>\n",
       "<style scoped>\n",
       "    .dataframe tbody tr th:only-of-type {\n",
       "        vertical-align: middle;\n",
       "    }\n",
       "\n",
       "    .dataframe tbody tr th {\n",
       "        vertical-align: top;\n",
       "    }\n",
       "\n",
       "    .dataframe thead th {\n",
       "        text-align: right;\n",
       "    }\n",
       "</style>\n",
       "<table border=\"1\" class=\"dataframe\">\n",
       "  <thead>\n",
       "    <tr style=\"text-align: right;\">\n",
       "      <th></th>\n",
       "      <th>event_id</th>\n",
       "      <th>placement</th>\n",
       "      <th>player</th>\n",
       "      <th>country</th>\n",
       "      <th>pokemon</th>\n",
       "    </tr>\n",
       "  </thead>\n",
       "  <tbody>\n",
       "    <tr>\n",
       "      <th>0</th>\n",
       "      <td>364</td>\n",
       "      <td>1</td>\n",
       "      <td>Andrew Zheng</td>\n",
       "      <td>USA</td>\n",
       "      <td>Amoonguss</td>\n",
       "    </tr>\n",
       "    <tr>\n",
       "      <th>1</th>\n",
       "      <td>364</td>\n",
       "      <td>1</td>\n",
       "      <td>Andrew Zheng</td>\n",
       "      <td>USA</td>\n",
       "      <td>Incineroar</td>\n",
       "    </tr>\n",
       "    <tr>\n",
       "      <th>2</th>\n",
       "      <td>364</td>\n",
       "      <td>1</td>\n",
       "      <td>Andrew Zheng</td>\n",
       "      <td>USA</td>\n",
       "      <td>Sneasler</td>\n",
       "    </tr>\n",
       "    <tr>\n",
       "      <th>3</th>\n",
       "      <td>364</td>\n",
       "      <td>1</td>\n",
       "      <td>Andrew Zheng</td>\n",
       "      <td>USA</td>\n",
       "      <td>Garchomp</td>\n",
       "    </tr>\n",
       "    <tr>\n",
       "      <th>4</th>\n",
       "      <td>364</td>\n",
       "      <td>1</td>\n",
       "      <td>Andrew Zheng</td>\n",
       "      <td>USA</td>\n",
       "      <td>Porygon2</td>\n",
       "    </tr>\n",
       "    <tr>\n",
       "      <th>...</th>\n",
       "      <td>...</td>\n",
       "      <td>...</td>\n",
       "      <td>...</td>\n",
       "      <td>...</td>\n",
       "      <td>...</td>\n",
       "    </tr>\n",
       "    <tr>\n",
       "      <th>63211</th>\n",
       "      <td>241</td>\n",
       "      <td>4</td>\n",
       "      <td>Lee Provost</td>\n",
       "      <td>Great Britain</td>\n",
       "      <td>Kyogre</td>\n",
       "    </tr>\n",
       "    <tr>\n",
       "      <th>63212</th>\n",
       "      <td>241</td>\n",
       "      <td>4</td>\n",
       "      <td>Lee Provost</td>\n",
       "      <td>Great Britain</td>\n",
       "      <td>Dialga</td>\n",
       "    </tr>\n",
       "    <tr>\n",
       "      <th>63213</th>\n",
       "      <td>241</td>\n",
       "      <td>4</td>\n",
       "      <td>Lee Provost</td>\n",
       "      <td>Great Britain</td>\n",
       "      <td>Abomasnow</td>\n",
       "    </tr>\n",
       "    <tr>\n",
       "      <th>63214</th>\n",
       "      <td>241</td>\n",
       "      <td>4</td>\n",
       "      <td>Lee Provost</td>\n",
       "      <td>Great Britain</td>\n",
       "      <td>Palkia</td>\n",
       "    </tr>\n",
       "    <tr>\n",
       "      <th>63215</th>\n",
       "      <td>241</td>\n",
       "      <td>4</td>\n",
       "      <td>Lee Provost</td>\n",
       "      <td>Great Britain</td>\n",
       "      <td>Metagross</td>\n",
       "    </tr>\n",
       "  </tbody>\n",
       "</table>\n",
       "<p>62402 rows × 5 columns</p>\n",
       "</div>"
      ],
      "text/plain": [
       "       event_id placement        player        country     pokemon\n",
       "0           364         1  Andrew Zheng            USA   Amoonguss\n",
       "1           364         1  Andrew Zheng            USA  Incineroar\n",
       "2           364         1  Andrew Zheng            USA    Sneasler\n",
       "3           364         1  Andrew Zheng            USA    Garchomp\n",
       "4           364         1  Andrew Zheng            USA    Porygon2\n",
       "...         ...       ...           ...            ...         ...\n",
       "63211       241         4   Lee Provost  Great Britain      Kyogre\n",
       "63212       241         4   Lee Provost  Great Britain      Dialga\n",
       "63213       241         4   Lee Provost  Great Britain   Abomasnow\n",
       "63214       241         4   Lee Provost  Great Britain      Palkia\n",
       "63215       241         4   Lee Provost  Great Britain   Metagross\n",
       "\n",
       "[62402 rows x 5 columns]"
      ]
     },
     "execution_count": 13,
     "metadata": {},
     "output_type": "execute_result"
    }
   ],
   "source": [
    "pokemon_stats_df = pokemon_stats_df.explode('team') # explode the team column\n",
    "pokemon_stats_df.reset_index(drop=True, inplace=True) # reset the indexes\n",
    "pokemon_stats_df.rename(columns={\"team\": \"pokemon\"}, inplace=True) # rename the column from team to pokemon\n",
    "pokemon_stats_df = pokemon_stats_df.loc[pokemon_stats_df['pokemon'] != \"\"] # drop all rows with empty pokemon\n",
    "pokemon_stats_df"
   ]
  },
  {
   "cell_type": "markdown",
   "metadata": {
    "id": "dObu0PymTDDz"
   },
   "source": [
    "Get the ruleset/generation of each event"
   ]
  },
  {
   "cell_type": "code",
   "execution_count": 14,
   "metadata": {
    "id": "iUUYcSKQTO_a"
   },
   "outputs": [],
   "source": [
    "def get_ruleset_from_event_id(event_id):\n",
    "  event_url = f\"https://limitlessvgc.com/events/{event_id}/\"\n",
    "  page = requests.get(event_url)\n",
    "  soup = BeautifulSoup(page.content, \"html.parser\")\n",
    "\n",
    "  infobox = soup.find(class_=\"infobox-text\")\n",
    "  format = infobox.find(\"a\").text\n",
    "  return format"
   ]
  },
  {
   "cell_type": "code",
   "execution_count": 15,
   "metadata": {
    "colab": {
     "base_uri": "https://localhost:8080/",
     "height": 423
    },
    "id": "vkN3pQhnUacU",
    "outputId": "b1353bd1-3041-4ff4-c4bc-936b6222ecbb"
   },
   "outputs": [
    {
     "data": {
      "text/html": [
       "<div>\n",
       "<style scoped>\n",
       "    .dataframe tbody tr th:only-of-type {\n",
       "        vertical-align: middle;\n",
       "    }\n",
       "\n",
       "    .dataframe tbody tr th {\n",
       "        vertical-align: top;\n",
       "    }\n",
       "\n",
       "    .dataframe thead th {\n",
       "        text-align: right;\n",
       "    }\n",
       "</style>\n",
       "<table border=\"1\" class=\"dataframe\">\n",
       "  <thead>\n",
       "    <tr style=\"text-align: right;\">\n",
       "      <th></th>\n",
       "      <th>date</th>\n",
       "      <th>event_country</th>\n",
       "      <th>name</th>\n",
       "      <th>num_players</th>\n",
       "      <th>winner</th>\n",
       "      <th>event_id</th>\n",
       "      <th>format</th>\n",
       "    </tr>\n",
       "  </thead>\n",
       "  <tbody>\n",
       "    <tr>\n",
       "      <th>0</th>\n",
       "      <td>12 Oct 24</td>\n",
       "      <td>USA</td>\n",
       "      <td>Regional Louisville</td>\n",
       "      <td>753</td>\n",
       "      <td>Andrew Zheng</td>\n",
       "      <td>364</td>\n",
       "      <td>Scarlet &amp; Violet - Regulation H</td>\n",
       "    </tr>\n",
       "    <tr>\n",
       "      <th>1</th>\n",
       "      <td>28 Sep 24</td>\n",
       "      <td>Germany</td>\n",
       "      <td>Regional Dortmund</td>\n",
       "      <td>710</td>\n",
       "      <td>Davide Miraglia</td>\n",
       "      <td>389</td>\n",
       "      <td>Scarlet &amp; Violet - Regulation H</td>\n",
       "    </tr>\n",
       "    <tr>\n",
       "      <th>2</th>\n",
       "      <td>28 Sep 24</td>\n",
       "      <td>Brazil</td>\n",
       "      <td>Regional Joinville</td>\n",
       "      <td>111</td>\n",
       "      <td>Gabriel Agati</td>\n",
       "      <td>378</td>\n",
       "      <td>Scarlet &amp; Violet - Regulation H</td>\n",
       "    </tr>\n",
       "    <tr>\n",
       "      <th>3</th>\n",
       "      <td>14 Sep 24</td>\n",
       "      <td>USA</td>\n",
       "      <td>Regional Baltimore</td>\n",
       "      <td>647</td>\n",
       "      <td>Nicholas Morales</td>\n",
       "      <td>390</td>\n",
       "      <td>Scarlet &amp; Violet - Regulation H</td>\n",
       "    </tr>\n",
       "    <tr>\n",
       "      <th>4</th>\n",
       "      <td>17 Aug 24</td>\n",
       "      <td>USA</td>\n",
       "      <td>Worlds Honolulu</td>\n",
       "      <td>694</td>\n",
       "      <td>Luca Ceribelli</td>\n",
       "      <td>358</td>\n",
       "      <td>Scarlet &amp; Violet - Regulation G</td>\n",
       "    </tr>\n",
       "    <tr>\n",
       "      <th>...</th>\n",
       "      <td>...</td>\n",
       "      <td>...</td>\n",
       "      <td>...</td>\n",
       "      <td>...</td>\n",
       "      <td>...</td>\n",
       "      <td>...</td>\n",
       "      <td>...</td>\n",
       "    </tr>\n",
       "    <tr>\n",
       "      <th>331</th>\n",
       "      <td>19 Jun 10</td>\n",
       "      <td>Spain</td>\n",
       "      <td>Spain Nationals 2010</td>\n",
       "      <td>256</td>\n",
       "      <td>Mario Diaz de Cerio Beltran</td>\n",
       "      <td>244</td>\n",
       "      <td>VGC 2010</td>\n",
       "    </tr>\n",
       "    <tr>\n",
       "      <th>332</th>\n",
       "      <td>12 Jun 10</td>\n",
       "      <td>France</td>\n",
       "      <td>France Nationals 2010</td>\n",
       "      <td>256</td>\n",
       "      <td>f roggy</td>\n",
       "      <td>243</td>\n",
       "      <td>VGC 2010</td>\n",
       "    </tr>\n",
       "    <tr>\n",
       "      <th>333</th>\n",
       "      <td>05 Jun 10</td>\n",
       "      <td>Germany</td>\n",
       "      <td>German Nationals 2010</td>\n",
       "      <td>256</td>\n",
       "      <td>Robert Wein</td>\n",
       "      <td>242</td>\n",
       "      <td>VGC 2010</td>\n",
       "    </tr>\n",
       "    <tr>\n",
       "      <th>334</th>\n",
       "      <td>01 Jun 10</td>\n",
       "      <td>Japan</td>\n",
       "      <td>Japan Nationals 2010</td>\n",
       "      <td>32</td>\n",
       "      <td>Ryo Tajiri</td>\n",
       "      <td>240</td>\n",
       "      <td>VGC 2010</td>\n",
       "    </tr>\n",
       "    <tr>\n",
       "      <th>335</th>\n",
       "      <td>01 Jun 10</td>\n",
       "      <td>Great Britain</td>\n",
       "      <td>UK Nationals 2010</td>\n",
       "      <td>100</td>\n",
       "      <td>Rees Hamilton</td>\n",
       "      <td>241</td>\n",
       "      <td>VGC 2010</td>\n",
       "    </tr>\n",
       "  </tbody>\n",
       "</table>\n",
       "<p>336 rows × 7 columns</p>\n",
       "</div>"
      ],
      "text/plain": [
       "          date  event_country                   name num_players  \\\n",
       "0    12 Oct 24            USA    Regional Louisville         753   \n",
       "1    28 Sep 24        Germany      Regional Dortmund         710   \n",
       "2    28 Sep 24         Brazil     Regional Joinville         111   \n",
       "3    14 Sep 24            USA     Regional Baltimore         647   \n",
       "4    17 Aug 24            USA        Worlds Honolulu         694   \n",
       "..         ...            ...                    ...         ...   \n",
       "331  19 Jun 10          Spain   Spain Nationals 2010         256   \n",
       "332  12 Jun 10         France  France Nationals 2010         256   \n",
       "333  05 Jun 10        Germany  German Nationals 2010         256   \n",
       "334  01 Jun 10          Japan   Japan Nationals 2010          32   \n",
       "335  01 Jun 10  Great Britain      UK Nationals 2010         100   \n",
       "\n",
       "                          winner  event_id                           format  \n",
       "0                   Andrew Zheng       364  Scarlet & Violet - Regulation H  \n",
       "1                Davide Miraglia       389  Scarlet & Violet - Regulation H  \n",
       "2                  Gabriel Agati       378  Scarlet & Violet - Regulation H  \n",
       "3               Nicholas Morales       390  Scarlet & Violet - Regulation H  \n",
       "4                 Luca Ceribelli       358  Scarlet & Violet - Regulation G  \n",
       "..                           ...       ...                              ...  \n",
       "331  Mario Diaz de Cerio Beltran       244                         VGC 2010  \n",
       "332                      f roggy       243                         VGC 2010  \n",
       "333                  Robert Wein       242                         VGC 2010  \n",
       "334                   Ryo Tajiri       240                         VGC 2010  \n",
       "335                Rees Hamilton       241                         VGC 2010  \n",
       "\n",
       "[336 rows x 7 columns]"
      ]
     },
     "execution_count": 15,
     "metadata": {},
     "output_type": "execute_result"
    }
   ],
   "source": [
    "tournaments_df['format'] = tournaments_df['event_id'].apply(lambda id: get_ruleset_from_event_id(id))\n",
    "tournaments_df"
   ]
  },
  {
   "cell_type": "code",
   "execution_count": 16,
   "metadata": {
    "colab": {
     "base_uri": "https://localhost:8080/",
     "height": 112
    },
    "id": "0klDmMh6tcy6",
    "outputId": "4a8bdd7c-4416-4c68-b8d0-826be038e46d"
   },
   "outputs": [
    {
     "data": {
      "text/html": [
       "<div>\n",
       "<style scoped>\n",
       "    .dataframe tbody tr th:only-of-type {\n",
       "        vertical-align: middle;\n",
       "    }\n",
       "\n",
       "    .dataframe tbody tr th {\n",
       "        vertical-align: top;\n",
       "    }\n",
       "\n",
       "    .dataframe thead th {\n",
       "        text-align: right;\n",
       "    }\n",
       "</style>\n",
       "<table border=\"1\" class=\"dataframe\">\n",
       "  <thead>\n",
       "    <tr style=\"text-align: right;\">\n",
       "      <th></th>\n",
       "      <th>date</th>\n",
       "      <th>event_country</th>\n",
       "      <th>name</th>\n",
       "      <th>num_players</th>\n",
       "      <th>winner</th>\n",
       "      <th>event_id</th>\n",
       "      <th>format</th>\n",
       "    </tr>\n",
       "  </thead>\n",
       "  <tbody>\n",
       "    <tr>\n",
       "      <th>77</th>\n",
       "      <td>17 Jul 21</td>\n",
       "      <td>USA</td>\n",
       "      <td>Players Cup 4 Global Finals</td>\n",
       "      <td>800</td>\n",
       "      <td>Renzo Navarro</td>\n",
       "      <td>350</td>\n",
       "      <td></td>\n",
       "    </tr>\n",
       "    <tr>\n",
       "      <th>78</th>\n",
       "      <td>10 Apr 21</td>\n",
       "      <td>USA</td>\n",
       "      <td>Players Cup 3 Global Finals</td>\n",
       "      <td>800</td>\n",
       "      <td>Jonathan Evans</td>\n",
       "      <td>352</td>\n",
       "      <td></td>\n",
       "    </tr>\n",
       "  </tbody>\n",
       "</table>\n",
       "</div>"
      ],
      "text/plain": [
       "         date event_country                         name num_players  \\\n",
       "77  17 Jul 21           USA  Players Cup 4 Global Finals         800   \n",
       "78  10 Apr 21           USA  Players Cup 3 Global Finals         800   \n",
       "\n",
       "            winner  event_id format  \n",
       "77   Renzo Navarro       350         \n",
       "78  Jonathan Evans       352         "
      ]
     },
     "execution_count": 16,
     "metadata": {},
     "output_type": "execute_result"
    }
   ],
   "source": [
    "tournaments_df.loc[tournaments_df['format']==\"\"]"
   ]
  },
  {
   "cell_type": "code",
   "execution_count": 17,
   "metadata": {
    "colab": {
     "base_uri": "https://localhost:8080/"
    },
    "id": "n3KCye3DUcI_",
    "outputId": "66160345-f9f4-4d89-92fc-34003f3f9695"
   },
   "outputs": [
    {
     "data": {
      "text/plain": [
       "array(['Scarlet & Violet - Regulation H',\n",
       "       'Scarlet & Violet - Regulation G',\n",
       "       'Scarlet & Violet - Regulation F',\n",
       "       'Scarlet & Violet - Regulation E',\n",
       "       'Scarlet & Violet - Regulation D',\n",
       "       'Scarlet & Violet - Regulation C',\n",
       "       'Scarlet & Violet - Regulation B',\n",
       "       'Scarlet & Violet - Regulation A', 'VGC 2022', '', 'VGC 2020',\n",
       "       'Ultra Series', 'Moon Series', 'Sun Series', 'VGC 2018',\n",
       "       'VGC 2017', 'VGC 2016', 'VGC 2015', 'VGC 2014', 'VGC 2013',\n",
       "       'VGC 2012', 'VGC 2011', 'VGC 2010'], dtype=object)"
      ]
     },
     "execution_count": 17,
     "metadata": {},
     "output_type": "execute_result"
    }
   ],
   "source": [
    "tournaments_df['format'].unique()"
   ]
  },
  {
   "cell_type": "code",
   "execution_count": 18,
   "metadata": {
    "id": "z4br1oqxripe"
   },
   "outputs": [],
   "source": [
    "format_to_gen_dict = {\n",
    "  \"VGC 2010\": \"gen_4\",\n",
    "  \"VGC 2011\": \"gen_5\",\n",
    "  \"VGC 2012\": \"gen_5\",\n",
    "  \"VGC 2013\": \"gen_5\",\n",
    "  \"VGC 2014\": \"gen_6\",\n",
    "  \"VGC 2015\": \"gen_6\",\n",
    "  \"VGC 2016\": \"gen_6\",\n",
    "  \"VGC 2017\": \"gen_7\",\n",
    "  \"VGC 2018\": \"gen_7\",\n",
    "  \"Sun Series\": \"gen_7\",\n",
    "  \"Moon Series\": \"gen_7\",\n",
    "  \"Ultra Series\": \"gen_7\",\n",
    "  \"VGC 2020\": \"gen_8\",\n",
    "  \"VGC 2022\": \"gen_8\",\n",
    "  \"Scarlet & Violet - Regulation A\": \"gen_9\",\n",
    "  \"Scarlet & Violet - Regulation B\": \"gen_9\",\n",
    "  \"Scarlet & Violet - Regulation C\": \"gen_9\",\n",
    "  \"Scarlet & Violet - Regulation D\": \"gen_9\",\n",
    "  \"Scarlet & Violet - Regulation E\": \"gen_9\",\n",
    "  \"Scarlet & Violet - Regulation F\": \"gen_9\",\n",
    "  \"Scarlet & Violet - Regulation G\": \"gen_9\",\n",
    "  \"Scarlet & Violet - Regulation H\": \"gen_9\",\n",
    "}"
   ]
  },
  {
   "cell_type": "code",
   "execution_count": 19,
   "metadata": {
    "colab": {
     "base_uri": "https://localhost:8080/",
     "height": 237
    },
    "id": "owfLFzhUtbEW",
    "outputId": "9b7c404f-7604-4ef3-c469-369e55d95b80"
   },
   "outputs": [
    {
     "data": {
      "text/html": [
       "<div>\n",
       "<style scoped>\n",
       "    .dataframe tbody tr th:only-of-type {\n",
       "        vertical-align: middle;\n",
       "    }\n",
       "\n",
       "    .dataframe tbody tr th {\n",
       "        vertical-align: top;\n",
       "    }\n",
       "\n",
       "    .dataframe thead th {\n",
       "        text-align: right;\n",
       "    }\n",
       "</style>\n",
       "<table border=\"1\" class=\"dataframe\">\n",
       "  <thead>\n",
       "    <tr style=\"text-align: right;\">\n",
       "      <th></th>\n",
       "      <th>date</th>\n",
       "      <th>event_country</th>\n",
       "      <th>name</th>\n",
       "      <th>num_players</th>\n",
       "      <th>winner</th>\n",
       "      <th>event_id</th>\n",
       "      <th>format</th>\n",
       "    </tr>\n",
       "  </thead>\n",
       "  <tbody>\n",
       "    <tr>\n",
       "      <th>75</th>\n",
       "      <td>19 Mar 22</td>\n",
       "      <td>USA</td>\n",
       "      <td>Regional Salt Lake City</td>\n",
       "      <td>163</td>\n",
       "      <td>Chongjun Peng</td>\n",
       "      <td>293</td>\n",
       "      <td>VGC 2022</td>\n",
       "    </tr>\n",
       "    <tr>\n",
       "      <th>76</th>\n",
       "      <td>12 Mar 22</td>\n",
       "      <td>Australia</td>\n",
       "      <td>Regional Brisbane</td>\n",
       "      <td>71</td>\n",
       "      <td>Henry Rich</td>\n",
       "      <td>276</td>\n",
       "      <td>VGC 2022</td>\n",
       "    </tr>\n",
       "    <tr>\n",
       "      <th>77</th>\n",
       "      <td>17 Jul 21</td>\n",
       "      <td>USA</td>\n",
       "      <td>Players Cup 4 Global Finals</td>\n",
       "      <td>800</td>\n",
       "      <td>Renzo Navarro</td>\n",
       "      <td>350</td>\n",
       "      <td></td>\n",
       "    </tr>\n",
       "    <tr>\n",
       "      <th>78</th>\n",
       "      <td>10 Apr 21</td>\n",
       "      <td>USA</td>\n",
       "      <td>Players Cup 3 Global Finals</td>\n",
       "      <td>800</td>\n",
       "      <td>Jonathan Evans</td>\n",
       "      <td>352</td>\n",
       "      <td></td>\n",
       "    </tr>\n",
       "    <tr>\n",
       "      <th>79</th>\n",
       "      <td>05 Dec 20</td>\n",
       "      <td>USA</td>\n",
       "      <td>Players Cup 2 Global Finals</td>\n",
       "      <td>800</td>\n",
       "      <td>Wolfe Glick</td>\n",
       "      <td>351</td>\n",
       "      <td>VGC 2020</td>\n",
       "    </tr>\n",
       "    <tr>\n",
       "      <th>80</th>\n",
       "      <td>22 Aug 20</td>\n",
       "      <td>Germany</td>\n",
       "      <td>Players Cup 1</td>\n",
       "      <td>800</td>\n",
       "      <td>Santino Tarquinio</td>\n",
       "      <td>323</td>\n",
       "      <td>VGC 2020</td>\n",
       "    </tr>\n",
       "  </tbody>\n",
       "</table>\n",
       "</div>"
      ],
      "text/plain": [
       "         date event_country                         name num_players  \\\n",
       "75  19 Mar 22           USA      Regional Salt Lake City         163   \n",
       "76  12 Mar 22     Australia            Regional Brisbane          71   \n",
       "77  17 Jul 21           USA  Players Cup 4 Global Finals         800   \n",
       "78  10 Apr 21           USA  Players Cup 3 Global Finals         800   \n",
       "79  05 Dec 20           USA  Players Cup 2 Global Finals         800   \n",
       "80  22 Aug 20       Germany                Players Cup 1         800   \n",
       "\n",
       "               winner  event_id    format  \n",
       "75      Chongjun Peng       293  VGC 2022  \n",
       "76         Henry Rich       276  VGC 2022  \n",
       "77      Renzo Navarro       350            \n",
       "78     Jonathan Evans       352            \n",
       "79        Wolfe Glick       351  VGC 2020  \n",
       "80  Santino Tarquinio       323  VGC 2020  "
      ]
     },
     "execution_count": 19,
     "metadata": {},
     "output_type": "execute_result"
    }
   ],
   "source": [
    "tournaments_df.iloc[[75, 76, 77, 78, 79, 80]]"
   ]
  },
  {
   "cell_type": "markdown",
   "metadata": {
    "id": "aRer5QIGu_qy"
   },
   "source": [
    "We'll assume 2021 is gen 8"
   ]
  },
  {
   "cell_type": "code",
   "execution_count": 20,
   "metadata": {
    "id": "GlcOmUzfugJp"
   },
   "outputs": [],
   "source": [
    "tournaments_df.loc[[77, 78], 'format'] = \"VGC 2020\""
   ]
  },
  {
   "cell_type": "code",
   "execution_count": 21,
   "metadata": {},
   "outputs": [
    {
     "data": {
      "text/plain": [
       "array(['Scarlet & Violet - Regulation H',\n",
       "       'Scarlet & Violet - Regulation G',\n",
       "       'Scarlet & Violet - Regulation F',\n",
       "       'Scarlet & Violet - Regulation E',\n",
       "       'Scarlet & Violet - Regulation D',\n",
       "       'Scarlet & Violet - Regulation C',\n",
       "       'Scarlet & Violet - Regulation B',\n",
       "       'Scarlet & Violet - Regulation A', 'VGC 2022', 'VGC 2020',\n",
       "       'Ultra Series', 'Moon Series', 'Sun Series', 'VGC 2018',\n",
       "       'VGC 2017', 'VGC 2016', 'VGC 2015', 'VGC 2014', 'VGC 2013',\n",
       "       'VGC 2012', 'VGC 2011', 'VGC 2010'], dtype=object)"
      ]
     },
     "execution_count": 21,
     "metadata": {},
     "output_type": "execute_result"
    }
   ],
   "source": [
    "tournaments_df['format'].unique()"
   ]
  },
  {
   "cell_type": "code",
   "execution_count": 22,
   "metadata": {
    "id": "6WG6xUFxvNA1"
   },
   "outputs": [],
   "source": [
    "tournaments_df['format'] = tournaments_df['format'].apply(lambda x: format_to_gen_dict[x])"
   ]
  },
  {
   "cell_type": "code",
   "execution_count": 23,
   "metadata": {
    "colab": {
     "base_uri": "https://localhost:8080/",
     "height": 423
    },
    "id": "Sq-l5o6Jvcrb",
    "outputId": "433132e4-740f-4534-b344-9162ef2c5107"
   },
   "outputs": [
    {
     "data": {
      "text/html": [
       "<div>\n",
       "<style scoped>\n",
       "    .dataframe tbody tr th:only-of-type {\n",
       "        vertical-align: middle;\n",
       "    }\n",
       "\n",
       "    .dataframe tbody tr th {\n",
       "        vertical-align: top;\n",
       "    }\n",
       "\n",
       "    .dataframe thead th {\n",
       "        text-align: right;\n",
       "    }\n",
       "</style>\n",
       "<table border=\"1\" class=\"dataframe\">\n",
       "  <thead>\n",
       "    <tr style=\"text-align: right;\">\n",
       "      <th></th>\n",
       "      <th>date</th>\n",
       "      <th>event_country</th>\n",
       "      <th>name</th>\n",
       "      <th>num_players</th>\n",
       "      <th>winner</th>\n",
       "      <th>event_id</th>\n",
       "      <th>format</th>\n",
       "    </tr>\n",
       "  </thead>\n",
       "  <tbody>\n",
       "    <tr>\n",
       "      <th>0</th>\n",
       "      <td>12 Oct 24</td>\n",
       "      <td>USA</td>\n",
       "      <td>Regional Louisville</td>\n",
       "      <td>753</td>\n",
       "      <td>Andrew Zheng</td>\n",
       "      <td>364</td>\n",
       "      <td>gen_9</td>\n",
       "    </tr>\n",
       "    <tr>\n",
       "      <th>1</th>\n",
       "      <td>28 Sep 24</td>\n",
       "      <td>Germany</td>\n",
       "      <td>Regional Dortmund</td>\n",
       "      <td>710</td>\n",
       "      <td>Davide Miraglia</td>\n",
       "      <td>389</td>\n",
       "      <td>gen_9</td>\n",
       "    </tr>\n",
       "    <tr>\n",
       "      <th>2</th>\n",
       "      <td>28 Sep 24</td>\n",
       "      <td>Brazil</td>\n",
       "      <td>Regional Joinville</td>\n",
       "      <td>111</td>\n",
       "      <td>Gabriel Agati</td>\n",
       "      <td>378</td>\n",
       "      <td>gen_9</td>\n",
       "    </tr>\n",
       "    <tr>\n",
       "      <th>3</th>\n",
       "      <td>14 Sep 24</td>\n",
       "      <td>USA</td>\n",
       "      <td>Regional Baltimore</td>\n",
       "      <td>647</td>\n",
       "      <td>Nicholas Morales</td>\n",
       "      <td>390</td>\n",
       "      <td>gen_9</td>\n",
       "    </tr>\n",
       "    <tr>\n",
       "      <th>4</th>\n",
       "      <td>17 Aug 24</td>\n",
       "      <td>USA</td>\n",
       "      <td>Worlds Honolulu</td>\n",
       "      <td>694</td>\n",
       "      <td>Luca Ceribelli</td>\n",
       "      <td>358</td>\n",
       "      <td>gen_9</td>\n",
       "    </tr>\n",
       "    <tr>\n",
       "      <th>...</th>\n",
       "      <td>...</td>\n",
       "      <td>...</td>\n",
       "      <td>...</td>\n",
       "      <td>...</td>\n",
       "      <td>...</td>\n",
       "      <td>...</td>\n",
       "      <td>...</td>\n",
       "    </tr>\n",
       "    <tr>\n",
       "      <th>331</th>\n",
       "      <td>19 Jun 10</td>\n",
       "      <td>Spain</td>\n",
       "      <td>Spain Nationals 2010</td>\n",
       "      <td>256</td>\n",
       "      <td>Mario Diaz de Cerio Beltran</td>\n",
       "      <td>244</td>\n",
       "      <td>gen_4</td>\n",
       "    </tr>\n",
       "    <tr>\n",
       "      <th>332</th>\n",
       "      <td>12 Jun 10</td>\n",
       "      <td>France</td>\n",
       "      <td>France Nationals 2010</td>\n",
       "      <td>256</td>\n",
       "      <td>f roggy</td>\n",
       "      <td>243</td>\n",
       "      <td>gen_4</td>\n",
       "    </tr>\n",
       "    <tr>\n",
       "      <th>333</th>\n",
       "      <td>05 Jun 10</td>\n",
       "      <td>Germany</td>\n",
       "      <td>German Nationals 2010</td>\n",
       "      <td>256</td>\n",
       "      <td>Robert Wein</td>\n",
       "      <td>242</td>\n",
       "      <td>gen_4</td>\n",
       "    </tr>\n",
       "    <tr>\n",
       "      <th>334</th>\n",
       "      <td>01 Jun 10</td>\n",
       "      <td>Japan</td>\n",
       "      <td>Japan Nationals 2010</td>\n",
       "      <td>32</td>\n",
       "      <td>Ryo Tajiri</td>\n",
       "      <td>240</td>\n",
       "      <td>gen_4</td>\n",
       "    </tr>\n",
       "    <tr>\n",
       "      <th>335</th>\n",
       "      <td>01 Jun 10</td>\n",
       "      <td>Great Britain</td>\n",
       "      <td>UK Nationals 2010</td>\n",
       "      <td>100</td>\n",
       "      <td>Rees Hamilton</td>\n",
       "      <td>241</td>\n",
       "      <td>gen_4</td>\n",
       "    </tr>\n",
       "  </tbody>\n",
       "</table>\n",
       "<p>336 rows × 7 columns</p>\n",
       "</div>"
      ],
      "text/plain": [
       "          date  event_country                   name num_players  \\\n",
       "0    12 Oct 24            USA    Regional Louisville         753   \n",
       "1    28 Sep 24        Germany      Regional Dortmund         710   \n",
       "2    28 Sep 24         Brazil     Regional Joinville         111   \n",
       "3    14 Sep 24            USA     Regional Baltimore         647   \n",
       "4    17 Aug 24            USA        Worlds Honolulu         694   \n",
       "..         ...            ...                    ...         ...   \n",
       "331  19 Jun 10          Spain   Spain Nationals 2010         256   \n",
       "332  12 Jun 10         France  France Nationals 2010         256   \n",
       "333  05 Jun 10        Germany  German Nationals 2010         256   \n",
       "334  01 Jun 10          Japan   Japan Nationals 2010          32   \n",
       "335  01 Jun 10  Great Britain      UK Nationals 2010         100   \n",
       "\n",
       "                          winner  event_id format  \n",
       "0                   Andrew Zheng       364  gen_9  \n",
       "1                Davide Miraglia       389  gen_9  \n",
       "2                  Gabriel Agati       378  gen_9  \n",
       "3               Nicholas Morales       390  gen_9  \n",
       "4                 Luca Ceribelli       358  gen_9  \n",
       "..                           ...       ...    ...  \n",
       "331  Mario Diaz de Cerio Beltran       244  gen_4  \n",
       "332                      f roggy       243  gen_4  \n",
       "333                  Robert Wein       242  gen_4  \n",
       "334                   Ryo Tajiri       240  gen_4  \n",
       "335                Rees Hamilton       241  gen_4  \n",
       "\n",
       "[336 rows x 7 columns]"
      ]
     },
     "execution_count": 23,
     "metadata": {},
     "output_type": "execute_result"
    }
   ],
   "source": [
    "tournaments_df"
   ]
  },
  {
   "cell_type": "markdown",
   "metadata": {
    "id": "iFiSRcWOvnsx"
   },
   "source": [
    "Finally, we'll need a dataframe of all existing pokemon, to do some analysis on their typings later."
   ]
  },
  {
   "cell_type": "code",
   "execution_count": 24,
   "metadata": {
    "id": "otJcb5sxvdzJ"
   },
   "outputs": [],
   "source": [
    "url = \"https://bulbapedia.bulbagarden.net/wiki/List_of_Pok%C3%A9mon_by_name\"\n",
    "page = requests.get(url)\n",
    "soup = BeautifulSoup(page.content, \"html.parser\")"
   ]
  },
  {
   "cell_type": "code",
   "execution_count": 25,
   "metadata": {
    "colab": {
     "base_uri": "https://localhost:8080/"
    },
    "id": "Oiu5m_KAwCsc",
    "outputId": "0318e3c7-bfc4-4248-98b3-bda847c2625d"
   },
   "outputs": [
    {
     "name": "stderr",
     "output_type": "stream",
     "text": [
      "100%|██████████| 30/30 [00:00<00:00, 899.46it/s]\n"
     ]
    }
   ],
   "source": [
    "pokemon_data = []\n",
    "tables = soup.findAll(\"table\")\n",
    "for table in tqdm(tables):\n",
    "  try:\n",
    "    rows = table.findAll(\"tr\")[1:]\n",
    "    for row in rows:\n",
    "      entries = row.findAll(\"td\")\n",
    "      pokemon_id = int(entries[0].text.replace(\"#\", \"\"))\n",
    "      pokemon_name = entries[2].text\n",
    "      pokemon_type_1 = entries[3].text.replace(\"\\n\", \"\")\n",
    "      if len(entries) > 4:\n",
    "        pokemon_type_2 = entries[4].text.replace(\"\\n\", \"\")\n",
    "      else: pokemon_type_2 = None\n",
    "      pokemon_data.append([pokemon_id, pokemon_name, pokemon_type_1, pokemon_type_2])\n",
    "  except:\n",
    "    continue"
   ]
  },
  {
   "cell_type": "code",
   "execution_count": 26,
   "metadata": {
    "id": "nHfOgDTzwHzc"
   },
   "outputs": [],
   "source": [
    "pokemon_df = pd.DataFrame(data=pokemon_data, columns=[\"pokemon_id\", \"name\", \"type_1\", \"type_2\"])\n",
    "pokemon_df = pokemon_df.sort_values(by=\"pokemon_id\").reset_index(drop=True)"
   ]
  },
  {
   "cell_type": "code",
   "execution_count": 27,
   "metadata": {
    "colab": {
     "base_uri": "https://localhost:8080/",
     "height": 423
    },
    "id": "XNMLyIWfy9vm",
    "outputId": "d22a279e-1970-498f-a8b6-6345348ad454"
   },
   "outputs": [
    {
     "data": {
      "text/html": [
       "<div>\n",
       "<style scoped>\n",
       "    .dataframe tbody tr th:only-of-type {\n",
       "        vertical-align: middle;\n",
       "    }\n",
       "\n",
       "    .dataframe tbody tr th {\n",
       "        vertical-align: top;\n",
       "    }\n",
       "\n",
       "    .dataframe thead th {\n",
       "        text-align: right;\n",
       "    }\n",
       "</style>\n",
       "<table border=\"1\" class=\"dataframe\">\n",
       "  <thead>\n",
       "    <tr style=\"text-align: right;\">\n",
       "      <th></th>\n",
       "      <th>pokemon_id</th>\n",
       "      <th>name</th>\n",
       "      <th>type_1</th>\n",
       "      <th>type_2</th>\n",
       "    </tr>\n",
       "  </thead>\n",
       "  <tbody>\n",
       "    <tr>\n",
       "      <th>0</th>\n",
       "      <td>1</td>\n",
       "      <td>Bulbasaur</td>\n",
       "      <td>Grass</td>\n",
       "      <td>Poison</td>\n",
       "    </tr>\n",
       "    <tr>\n",
       "      <th>1</th>\n",
       "      <td>2</td>\n",
       "      <td>Ivysaur</td>\n",
       "      <td>Grass</td>\n",
       "      <td>Poison</td>\n",
       "    </tr>\n",
       "    <tr>\n",
       "      <th>2</th>\n",
       "      <td>3</td>\n",
       "      <td>Venusaur</td>\n",
       "      <td>Grass</td>\n",
       "      <td>Poison</td>\n",
       "    </tr>\n",
       "    <tr>\n",
       "      <th>3</th>\n",
       "      <td>4</td>\n",
       "      <td>Charmander</td>\n",
       "      <td>Fire</td>\n",
       "      <td>None</td>\n",
       "    </tr>\n",
       "    <tr>\n",
       "      <th>4</th>\n",
       "      <td>5</td>\n",
       "      <td>Charmeleon</td>\n",
       "      <td>Fire</td>\n",
       "      <td>None</td>\n",
       "    </tr>\n",
       "    <tr>\n",
       "      <th>...</th>\n",
       "      <td>...</td>\n",
       "      <td>...</td>\n",
       "      <td>...</td>\n",
       "      <td>...</td>\n",
       "    </tr>\n",
       "    <tr>\n",
       "      <th>1020</th>\n",
       "      <td>1021</td>\n",
       "      <td>Raging Bolt</td>\n",
       "      <td>Electric</td>\n",
       "      <td>Dragon</td>\n",
       "    </tr>\n",
       "    <tr>\n",
       "      <th>1021</th>\n",
       "      <td>1022</td>\n",
       "      <td>Iron Boulder</td>\n",
       "      <td>Rock</td>\n",
       "      <td>Psychic</td>\n",
       "    </tr>\n",
       "    <tr>\n",
       "      <th>1022</th>\n",
       "      <td>1023</td>\n",
       "      <td>Iron Crown</td>\n",
       "      <td>Steel</td>\n",
       "      <td>Psychic</td>\n",
       "    </tr>\n",
       "    <tr>\n",
       "      <th>1023</th>\n",
       "      <td>1024</td>\n",
       "      <td>Terapagos</td>\n",
       "      <td>Normal</td>\n",
       "      <td>None</td>\n",
       "    </tr>\n",
       "    <tr>\n",
       "      <th>1024</th>\n",
       "      <td>1025</td>\n",
       "      <td>Pecharunt</td>\n",
       "      <td>Poison</td>\n",
       "      <td>Ghost</td>\n",
       "    </tr>\n",
       "  </tbody>\n",
       "</table>\n",
       "<p>1025 rows × 4 columns</p>\n",
       "</div>"
      ],
      "text/plain": [
       "      pokemon_id          name    type_1   type_2\n",
       "0              1     Bulbasaur     Grass   Poison\n",
       "1              2       Ivysaur     Grass   Poison\n",
       "2              3      Venusaur     Grass   Poison\n",
       "3              4    Charmander      Fire     None\n",
       "4              5    Charmeleon      Fire     None\n",
       "...          ...           ...       ...      ...\n",
       "1020        1021   Raging Bolt  Electric   Dragon\n",
       "1021        1022  Iron Boulder      Rock  Psychic\n",
       "1022        1023    Iron Crown     Steel  Psychic\n",
       "1023        1024     Terapagos    Normal     None\n",
       "1024        1025     Pecharunt    Poison    Ghost\n",
       "\n",
       "[1025 rows x 4 columns]"
      ]
     },
     "execution_count": 27,
     "metadata": {},
     "output_type": "execute_result"
    }
   ],
   "source": [
    "pokemon_df"
   ]
  },
  {
   "cell_type": "markdown",
   "metadata": {
    "id": "_jqH-sQfz5s-"
   },
   "source": [
    "Now that we have all the dataframes we'll need, we are going to connect them to postgres."
   ]
  },
  {
   "cell_type": "markdown",
   "metadata": {
    "id": "fMNBqSFG0K_j"
   },
   "source": [
    "### Tournaments df"
   ]
  },
  {
   "cell_type": "code",
   "execution_count": 28,
   "metadata": {
    "colab": {
     "base_uri": "https://localhost:8080/",
     "height": 363
    },
    "id": "PU_ONhO6zvZC",
    "outputId": "8bff0ba3-2b69-41ad-91fd-3eb19caf0536"
   },
   "outputs": [
    {
     "data": {
      "text/html": [
       "<div>\n",
       "<style scoped>\n",
       "    .dataframe tbody tr th:only-of-type {\n",
       "        vertical-align: middle;\n",
       "    }\n",
       "\n",
       "    .dataframe tbody tr th {\n",
       "        vertical-align: top;\n",
       "    }\n",
       "\n",
       "    .dataframe thead th {\n",
       "        text-align: right;\n",
       "    }\n",
       "</style>\n",
       "<table border=\"1\" class=\"dataframe\">\n",
       "  <thead>\n",
       "    <tr style=\"text-align: right;\">\n",
       "      <th></th>\n",
       "      <th>event_id</th>\n",
       "      <th>event_date</th>\n",
       "      <th>event_country</th>\n",
       "      <th>event_name</th>\n",
       "      <th>num_players</th>\n",
       "      <th>winner</th>\n",
       "      <th>format</th>\n",
       "    </tr>\n",
       "  </thead>\n",
       "  <tbody>\n",
       "    <tr>\n",
       "      <th>0</th>\n",
       "      <td>364</td>\n",
       "      <td>12 Oct 24</td>\n",
       "      <td>USA</td>\n",
       "      <td>Regional Louisville</td>\n",
       "      <td>753</td>\n",
       "      <td>Andrew Zheng</td>\n",
       "      <td>gen_9</td>\n",
       "    </tr>\n",
       "    <tr>\n",
       "      <th>1</th>\n",
       "      <td>389</td>\n",
       "      <td>28 Sep 24</td>\n",
       "      <td>Germany</td>\n",
       "      <td>Regional Dortmund</td>\n",
       "      <td>710</td>\n",
       "      <td>Davide Miraglia</td>\n",
       "      <td>gen_9</td>\n",
       "    </tr>\n",
       "    <tr>\n",
       "      <th>2</th>\n",
       "      <td>378</td>\n",
       "      <td>28 Sep 24</td>\n",
       "      <td>Brazil</td>\n",
       "      <td>Regional Joinville</td>\n",
       "      <td>111</td>\n",
       "      <td>Gabriel Agati</td>\n",
       "      <td>gen_9</td>\n",
       "    </tr>\n",
       "    <tr>\n",
       "      <th>3</th>\n",
       "      <td>390</td>\n",
       "      <td>14 Sep 24</td>\n",
       "      <td>USA</td>\n",
       "      <td>Regional Baltimore</td>\n",
       "      <td>647</td>\n",
       "      <td>Nicholas Morales</td>\n",
       "      <td>gen_9</td>\n",
       "    </tr>\n",
       "    <tr>\n",
       "      <th>4</th>\n",
       "      <td>358</td>\n",
       "      <td>17 Aug 24</td>\n",
       "      <td>USA</td>\n",
       "      <td>Worlds Honolulu</td>\n",
       "      <td>694</td>\n",
       "      <td>Luca Ceribelli</td>\n",
       "      <td>gen_9</td>\n",
       "    </tr>\n",
       "    <tr>\n",
       "      <th>5</th>\n",
       "      <td>355</td>\n",
       "      <td>08 Jun 24</td>\n",
       "      <td>USA</td>\n",
       "      <td>International New Orleans</td>\n",
       "      <td>921</td>\n",
       "      <td>Patrick Connors</td>\n",
       "      <td>gen_9</td>\n",
       "    </tr>\n",
       "    <tr>\n",
       "      <th>6</th>\n",
       "      <td>359</td>\n",
       "      <td>01 Jun 24</td>\n",
       "      <td>Italy</td>\n",
       "      <td>Special Bologna</td>\n",
       "      <td>668</td>\n",
       "      <td>Ruben Gianzini</td>\n",
       "      <td>gen_9</td>\n",
       "    </tr>\n",
       "    <tr>\n",
       "      <th>7</th>\n",
       "      <td>334</td>\n",
       "      <td>25 May 24</td>\n",
       "      <td>USA</td>\n",
       "      <td>Regional Los Angeles</td>\n",
       "      <td>618</td>\n",
       "      <td>Montana Mott</td>\n",
       "      <td>gen_9</td>\n",
       "    </tr>\n",
       "    <tr>\n",
       "      <th>8</th>\n",
       "      <td>360</td>\n",
       "      <td>18 May 24</td>\n",
       "      <td>Chile</td>\n",
       "      <td>Regional Santiago</td>\n",
       "      <td>153</td>\n",
       "      <td>Hanns Pizarro</td>\n",
       "      <td>gen_9</td>\n",
       "    </tr>\n",
       "    <tr>\n",
       "      <th>9</th>\n",
       "      <td>361</td>\n",
       "      <td>11 May 24</td>\n",
       "      <td>Sweden</td>\n",
       "      <td>Regional Stockholm</td>\n",
       "      <td>256</td>\n",
       "      <td>Michael Kelsch</td>\n",
       "      <td>gen_9</td>\n",
       "    </tr>\n",
       "  </tbody>\n",
       "</table>\n",
       "</div>"
      ],
      "text/plain": [
       "   event_id event_date event_country                 event_name num_players  \\\n",
       "0       364  12 Oct 24           USA        Regional Louisville         753   \n",
       "1       389  28 Sep 24       Germany          Regional Dortmund         710   \n",
       "2       378  28 Sep 24        Brazil         Regional Joinville         111   \n",
       "3       390  14 Sep 24           USA         Regional Baltimore         647   \n",
       "4       358  17 Aug 24           USA            Worlds Honolulu         694   \n",
       "5       355  08 Jun 24           USA  International New Orleans         921   \n",
       "6       359  01 Jun 24         Italy            Special Bologna         668   \n",
       "7       334  25 May 24           USA       Regional Los Angeles         618   \n",
       "8       360  18 May 24         Chile          Regional Santiago         153   \n",
       "9       361  11 May 24        Sweden         Regional Stockholm         256   \n",
       "\n",
       "             winner format  \n",
       "0      Andrew Zheng  gen_9  \n",
       "1   Davide Miraglia  gen_9  \n",
       "2     Gabriel Agati  gen_9  \n",
       "3  Nicholas Morales  gen_9  \n",
       "4    Luca Ceribelli  gen_9  \n",
       "5   Patrick Connors  gen_9  \n",
       "6    Ruben Gianzini  gen_9  \n",
       "7      Montana Mott  gen_9  \n",
       "8     Hanns Pizarro  gen_9  \n",
       "9    Michael Kelsch  gen_9  "
      ]
     },
     "execution_count": 28,
     "metadata": {},
     "output_type": "execute_result"
    }
   ],
   "source": [
    "tournaments_df = tournaments_df[['event_id', 'date', 'event_country', 'name', 'num_players', 'winner', 'format']]\n",
    "tournaments_df = tournaments_df.rename(columns={\"date\": \"event_date\", \"name\": \"event_name\"})\n",
    "tournaments_df.head(10)"
   ]
  },
  {
   "cell_type": "markdown",
   "metadata": {
    "id": "pvl5Ss-u0Qfr"
   },
   "source": [
    "### Pokemon Stats df"
   ]
  },
  {
   "cell_type": "code",
   "execution_count": 29,
   "metadata": {
    "colab": {
     "base_uri": "https://localhost:8080/",
     "height": 363
    },
    "id": "IpCMR0G90Oxn",
    "outputId": "fbbf5afd-ab71-4562-87fb-e9a6fc031cd6"
   },
   "outputs": [
    {
     "data": {
      "text/html": [
       "<div>\n",
       "<style scoped>\n",
       "    .dataframe tbody tr th:only-of-type {\n",
       "        vertical-align: middle;\n",
       "    }\n",
       "\n",
       "    .dataframe tbody tr th {\n",
       "        vertical-align: top;\n",
       "    }\n",
       "\n",
       "    .dataframe thead th {\n",
       "        text-align: right;\n",
       "    }\n",
       "</style>\n",
       "<table border=\"1\" class=\"dataframe\">\n",
       "  <thead>\n",
       "    <tr style=\"text-align: right;\">\n",
       "      <th></th>\n",
       "      <th>event_id</th>\n",
       "      <th>placement</th>\n",
       "      <th>player_name</th>\n",
       "      <th>player_country</th>\n",
       "      <th>pokemon_name</th>\n",
       "    </tr>\n",
       "  </thead>\n",
       "  <tbody>\n",
       "    <tr>\n",
       "      <th>0</th>\n",
       "      <td>364</td>\n",
       "      <td>1</td>\n",
       "      <td>Andrew Zheng</td>\n",
       "      <td>USA</td>\n",
       "      <td>Amoonguss</td>\n",
       "    </tr>\n",
       "    <tr>\n",
       "      <th>1</th>\n",
       "      <td>364</td>\n",
       "      <td>1</td>\n",
       "      <td>Andrew Zheng</td>\n",
       "      <td>USA</td>\n",
       "      <td>Incineroar</td>\n",
       "    </tr>\n",
       "    <tr>\n",
       "      <th>2</th>\n",
       "      <td>364</td>\n",
       "      <td>1</td>\n",
       "      <td>Andrew Zheng</td>\n",
       "      <td>USA</td>\n",
       "      <td>Sneasler</td>\n",
       "    </tr>\n",
       "    <tr>\n",
       "      <th>3</th>\n",
       "      <td>364</td>\n",
       "      <td>1</td>\n",
       "      <td>Andrew Zheng</td>\n",
       "      <td>USA</td>\n",
       "      <td>Garchomp</td>\n",
       "    </tr>\n",
       "    <tr>\n",
       "      <th>4</th>\n",
       "      <td>364</td>\n",
       "      <td>1</td>\n",
       "      <td>Andrew Zheng</td>\n",
       "      <td>USA</td>\n",
       "      <td>Porygon2</td>\n",
       "    </tr>\n",
       "    <tr>\n",
       "      <th>5</th>\n",
       "      <td>364</td>\n",
       "      <td>1</td>\n",
       "      <td>Andrew Zheng</td>\n",
       "      <td>USA</td>\n",
       "      <td>Gholdengo</td>\n",
       "    </tr>\n",
       "    <tr>\n",
       "      <th>6</th>\n",
       "      <td>364</td>\n",
       "      <td>2</td>\n",
       "      <td>Joseph Ugarte</td>\n",
       "      <td>USA</td>\n",
       "      <td>Garchomp</td>\n",
       "    </tr>\n",
       "    <tr>\n",
       "      <th>7</th>\n",
       "      <td>364</td>\n",
       "      <td>2</td>\n",
       "      <td>Joseph Ugarte</td>\n",
       "      <td>USA</td>\n",
       "      <td>Jumpluff</td>\n",
       "    </tr>\n",
       "    <tr>\n",
       "      <th>8</th>\n",
       "      <td>364</td>\n",
       "      <td>2</td>\n",
       "      <td>Joseph Ugarte</td>\n",
       "      <td>USA</td>\n",
       "      <td>Torkoal</td>\n",
       "    </tr>\n",
       "    <tr>\n",
       "      <th>9</th>\n",
       "      <td>364</td>\n",
       "      <td>2</td>\n",
       "      <td>Joseph Ugarte</td>\n",
       "      <td>USA</td>\n",
       "      <td>Dragonite</td>\n",
       "    </tr>\n",
       "  </tbody>\n",
       "</table>\n",
       "</div>"
      ],
      "text/plain": [
       "   event_id placement    player_name player_country pokemon_name\n",
       "0       364         1   Andrew Zheng            USA    Amoonguss\n",
       "1       364         1   Andrew Zheng            USA   Incineroar\n",
       "2       364         1   Andrew Zheng            USA     Sneasler\n",
       "3       364         1   Andrew Zheng            USA     Garchomp\n",
       "4       364         1   Andrew Zheng            USA     Porygon2\n",
       "5       364         1   Andrew Zheng            USA    Gholdengo\n",
       "6       364         2  Joseph Ugarte            USA     Garchomp\n",
       "7       364         2  Joseph Ugarte            USA     Jumpluff\n",
       "8       364         2  Joseph Ugarte            USA      Torkoal\n",
       "9       364         2  Joseph Ugarte            USA    Dragonite"
      ]
     },
     "execution_count": 29,
     "metadata": {},
     "output_type": "execute_result"
    }
   ],
   "source": [
    "pokemon_stats_df = pokemon_stats_df.rename(columns={\"player\": \"player_name\", \"country\": \"player_country\", \"pokemon\": \"pokemon_name\"})\n",
    "pokemon_stats_df = pokemon_stats_df.drop_duplicates(subset=[\"event_id\", \"placement\", \"player_name\", \"pokemon_name\"])\n",
    "pokemon_stats_df.head(10)"
   ]
  },
  {
   "cell_type": "markdown",
   "metadata": {
    "id": "vZU7dqGv0VV4"
   },
   "source": [
    "### Pokemon df"
   ]
  },
  {
   "cell_type": "code",
   "execution_count": 30,
   "metadata": {
    "colab": {
     "base_uri": "https://localhost:8080/",
     "height": 363
    },
    "id": "59vcI6HK0T6W",
    "outputId": "4375a27d-7ff5-455e-e732-2522dd8f85b7"
   },
   "outputs": [
    {
     "data": {
      "text/html": [
       "<div>\n",
       "<style scoped>\n",
       "    .dataframe tbody tr th:only-of-type {\n",
       "        vertical-align: middle;\n",
       "    }\n",
       "\n",
       "    .dataframe tbody tr th {\n",
       "        vertical-align: top;\n",
       "    }\n",
       "\n",
       "    .dataframe thead th {\n",
       "        text-align: right;\n",
       "    }\n",
       "</style>\n",
       "<table border=\"1\" class=\"dataframe\">\n",
       "  <thead>\n",
       "    <tr style=\"text-align: right;\">\n",
       "      <th></th>\n",
       "      <th>pokemon_id</th>\n",
       "      <th>pokemon_name</th>\n",
       "      <th>type_1</th>\n",
       "      <th>type_2</th>\n",
       "    </tr>\n",
       "  </thead>\n",
       "  <tbody>\n",
       "    <tr>\n",
       "      <th>0</th>\n",
       "      <td>1</td>\n",
       "      <td>Bulbasaur</td>\n",
       "      <td>Grass</td>\n",
       "      <td>Poison</td>\n",
       "    </tr>\n",
       "    <tr>\n",
       "      <th>1</th>\n",
       "      <td>2</td>\n",
       "      <td>Ivysaur</td>\n",
       "      <td>Grass</td>\n",
       "      <td>Poison</td>\n",
       "    </tr>\n",
       "    <tr>\n",
       "      <th>2</th>\n",
       "      <td>3</td>\n",
       "      <td>Venusaur</td>\n",
       "      <td>Grass</td>\n",
       "      <td>Poison</td>\n",
       "    </tr>\n",
       "    <tr>\n",
       "      <th>3</th>\n",
       "      <td>4</td>\n",
       "      <td>Charmander</td>\n",
       "      <td>Fire</td>\n",
       "      <td>None</td>\n",
       "    </tr>\n",
       "    <tr>\n",
       "      <th>4</th>\n",
       "      <td>5</td>\n",
       "      <td>Charmeleon</td>\n",
       "      <td>Fire</td>\n",
       "      <td>None</td>\n",
       "    </tr>\n",
       "    <tr>\n",
       "      <th>5</th>\n",
       "      <td>6</td>\n",
       "      <td>Charizard</td>\n",
       "      <td>Fire</td>\n",
       "      <td>Flying</td>\n",
       "    </tr>\n",
       "    <tr>\n",
       "      <th>6</th>\n",
       "      <td>7</td>\n",
       "      <td>Squirtle</td>\n",
       "      <td>Water</td>\n",
       "      <td>None</td>\n",
       "    </tr>\n",
       "    <tr>\n",
       "      <th>7</th>\n",
       "      <td>8</td>\n",
       "      <td>Wartortle</td>\n",
       "      <td>Water</td>\n",
       "      <td>None</td>\n",
       "    </tr>\n",
       "    <tr>\n",
       "      <th>8</th>\n",
       "      <td>9</td>\n",
       "      <td>Blastoise</td>\n",
       "      <td>Water</td>\n",
       "      <td>None</td>\n",
       "    </tr>\n",
       "    <tr>\n",
       "      <th>9</th>\n",
       "      <td>10</td>\n",
       "      <td>Caterpie</td>\n",
       "      <td>Bug</td>\n",
       "      <td>None</td>\n",
       "    </tr>\n",
       "  </tbody>\n",
       "</table>\n",
       "</div>"
      ],
      "text/plain": [
       "   pokemon_id pokemon_name type_1  type_2\n",
       "0           1    Bulbasaur  Grass  Poison\n",
       "1           2      Ivysaur  Grass  Poison\n",
       "2           3     Venusaur  Grass  Poison\n",
       "3           4   Charmander   Fire    None\n",
       "4           5   Charmeleon   Fire    None\n",
       "5           6    Charizard   Fire  Flying\n",
       "6           7     Squirtle  Water    None\n",
       "7           8    Wartortle  Water    None\n",
       "8           9    Blastoise  Water    None\n",
       "9          10     Caterpie    Bug    None"
      ]
     },
     "execution_count": 30,
     "metadata": {},
     "output_type": "execute_result"
    }
   ],
   "source": [
    "pokemon_df = pokemon_df.rename(columns={\"name\": \"pokemon_name\"})\n",
    "pokemon_df.head(10)"
   ]
  },
  {
   "cell_type": "markdown",
   "metadata": {},
   "source": [
    "### Connecting to postgres"
   ]
  },
  {
   "cell_type": "code",
   "execution_count": 40,
   "metadata": {},
   "outputs": [],
   "source": [
    "from dotenv import load_dotenv\n",
    "import os\n",
    "\n",
    "load_dotenv()\n",
    "\n",
    "# Access variables\n",
    "PSQL_USER = os.getenv(\"PSQL_USER\")\n",
    "PSQL_PASSWORD = os.getenv(\"PSQL_PASSWORD\")\n",
    "HOST = os.getenv(\"HOST\", \"localhost\")  # Default to 'localhost' if not set\n",
    "PORT = int(os.getenv(\"PORT\", \"5432\"))     # Default to '5432' if not set\n",
    "DB_NAME = os.getenv(\"DB_NAME\")"
   ]
  },
  {
   "cell_type": "code",
   "execution_count": 43,
   "metadata": {
    "id": "SBnlEvyR0XdT"
   },
   "outputs": [],
   "source": [
    "from sqlalchemy import create_engine\n",
    "\n",
    "conn = create_engine(f'postgresql://{PSQL_USER}:{PSQL_PASSWORD}@{HOST}:{PORT}/{DB_NAME}')"
   ]
  },
  {
   "cell_type": "code",
   "execution_count": 48,
   "metadata": {},
   "outputs": [
    {
     "data": {
      "text/plain": [
       "336"
      ]
     },
     "execution_count": 48,
     "metadata": {},
     "output_type": "execute_result"
    }
   ],
   "source": [
    "tournaments_df.to_sql(\"events\", con=conn, if_exists=\"append\", index=False)"
   ]
  },
  {
   "cell_type": "code",
   "execution_count": 49,
   "metadata": {},
   "outputs": [
    {
     "data": {
      "text/plain": [
       "25"
      ]
     },
     "execution_count": 49,
     "metadata": {},
     "output_type": "execute_result"
    }
   ],
   "source": [
    "pokemon_df.to_sql(\"pokemon\", con=conn, if_exists=\"append\", index=False)"
   ]
  },
  {
   "cell_type": "code",
   "execution_count": 50,
   "metadata": {},
   "outputs": [
    {
     "data": {
      "text/plain": [
       "397"
      ]
     },
     "execution_count": 50,
     "metadata": {},
     "output_type": "execute_result"
    }
   ],
   "source": [
    "pokemon_stats_df.to_sql(\"pokemon_stats\", con=conn, if_exists=\"append\", index=False)"
   ]
  },
  {
   "cell_type": "code",
   "execution_count": null,
   "metadata": {},
   "outputs": [],
   "source": []
  }
 ],
 "metadata": {
  "colab": {
   "provenance": []
  },
  "kernelspec": {
   "display_name": "venv",
   "language": "python",
   "name": "python3"
  },
  "language_info": {
   "codemirror_mode": {
    "name": "ipython",
    "version": 3
   },
   "file_extension": ".py",
   "mimetype": "text/x-python",
   "name": "python",
   "nbconvert_exporter": "python",
   "pygments_lexer": "ipython3",
   "version": "3.12.3"
  }
 },
 "nbformat": 4,
 "nbformat_minor": 0
}
